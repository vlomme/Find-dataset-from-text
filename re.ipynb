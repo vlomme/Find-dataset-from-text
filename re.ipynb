{
  "nbformat": 4,
  "nbformat_minor": 0,
  "metadata": {
    "colab": {
      "name": "re.ipynb",
      "provenance": []
    },
    "kernelspec": {
      "name": "python3",
      "display_name": "Python 3"
    },
    "language_info": {
      "name": "python"
    }
  },
  "cells": [
    {
      "cell_type": "markdown",
      "metadata": {
        "id": "tf78WNZ-aHIR"
      },
      "source": [
        "# Utils"
      ]
    },
    {
      "cell_type": "code",
      "metadata": {
        "id": "N-uWKIGGXp3n"
      },
      "source": [
        "from collections import Counter\n",
        "import re\n",
        "\n",
        "import numpy as np\n",
        "\n",
        "def clean_text(txt):\n",
        "    return re.sub('[^A-Za-z0-9]+', ' ', str(txt).lower()).strip()\n",
        "def text_cleaning(text):\n",
        "    '''\n",
        "    Converts all text to lower case, Removes special charecters, emojis and multiple spaces\n",
        "    text - Sentence that needs to be cleaned\n",
        "    '''\n",
        "    text = re.sub('[^A-Za-z0-9\\.\\:\\,\\!\\?\\;\\&]+', ' ', str(text)).strip()\n",
        "    emoji_pattern = re.compile(\"[\"\n",
        "                               u\"\\U0001F600-\\U0001F64F\"  # emoticons\n",
        "                               u\"\\U0001F300-\\U0001F5FF\"  # symbols & pictographs\n",
        "                               u\"\\U0001F680-\\U0001F6FF\"  # transport & map symbols\n",
        "                               u\"\\U0001F1E0-\\U0001F1FF\"  # flags (iOS)\n",
        "                               \"]+\", flags=re.UNICODE)\n",
        "    text = emoji_pattern.sub(r'', text)\n",
        "    text = re.sub('\\s', ' ', text)\n",
        "    return text.strip()    "
      ],
      "execution_count": 9,
      "outputs": []
    },
    {
      "cell_type": "markdown",
      "metadata": {
        "id": "9CroE3ADaBZE"
      },
      "source": [
        "# Text"
      ]
    },
    {
      "cell_type": "code",
      "metadata": {
        "id": "qnZiBOvSYFHv"
      },
      "source": [
        "text = \"A significant body of research has been conducted in the past two decades to understand how consumers decide where to shop and the types of foods they purchase. Even though lowincome (LI) households' choices are constrained by financial barriers, their decisions about where to shop for food are similar to those of non-low-income (NLI) households. Findings on purchasing patterns of LI households are heterogeneous and difficult to compare and reconcile because of differences in the studies' scope and scale. Understanding the specific factors related to where people shop and what they purchase provides policymakers and practitioners opportunities to understand and appreciate the complexity of consumer behaviors and commensurately consider resource allocation related to changing behaviors. This study contributes to the literature by exploring where people buy food, and their purchases of specific foods/food categories using three datasets varying in scope and detail. The analysis is focused on a major US region, the Northeast (NE). Results from shoppers' intercept survey data collected at 13 stores in LI areas in nine Northeastern locations were compared with those obtained using secondary household food purchasing data from the Information Resource Incorporated (IRI) Consumer Network Panel (CNP) courtesy of the USDA Economic Research Service (ERS), and food expenditures from the Consumer Expenditure Survey (CES) of the US Bureau of Labor Statistics. The origin of the work presented here is a 7-year project conducted in the NE, with a longterm goal of determining whether greater reliance on regionally produced food might improve the food security of the region, and the community food security of LI communities throughout the region. In the nine project locations, one or two sites were selected, with a supermarket as the focal point of each site. To assess the type of food outlets chosen by households, we used a shopper intercept survey to identify both the primary and secondary stores patronized by respondents participating in federal food assistance programs (the survey's proxy for LI status) in urban and rural locations. The IRI data were used to measure the frequency of purchases, and the share of food expenditures at different types of food stores by households above and below 200% of the poverty threshold level. To gain insights on the types of food purchased, we compared the results of the analysis performed on the intercept surveys with those of the two secondary datasets with respect to specific market basket items (MBIs). In particular, we looked at purchasing patterns across demographic characteristics such as education level, income, usage of federal nutrition programs, race/ethnicity, urban and rural residency and presence of children in the household. The MBIs used in the intercept survey encompassed eight food products (bread, milk, ground beef, apples, fresh potatoes, frozen broccoli, canned peaches and cabbage). The purchasing patterns of six products were analyzed in detail using the IRI data. The analysis of the CES data utilized food categories. The results obtained using different data sources are reviewed and analyzed with regard to other findings in the literature. We reviewed the literature that explored retail trends and where people shop as related to household income and rural/urban residency. We also reviewed studies of food purchasing patterns that included any analyses from primary and secondary data sources that were focused on the role of income, education, dietary disparities, children's presence in the household, rural/urban food patterns or race/ethnicity. Diversification in the food retail sector offers consumers multiple food-shopping venues, and all income groups employ a multiple store strategy, that is shopping at several stores on a regular basis (Stern et al., 2015). Using secondary data from the 2010 Nielsen Homescan Survey, Rahkovsky and Snyder (2015) reported that regardless of income, consumers shop at 11 different food stores over a year's time. Even people with household incomes less than $25,000 travel about 4.8 miles to shop-about the same average miles (5.2) as all households in their sample (Allcott et al., 2017). A recent industry report also found that on average, consumers shop at 5.4 different formats of grocery retailers (Gabbett, 2017). Despite these alternative shopping venues, studies consistently find that supermarkets (Broda et al., 2009;Alkon et al., 2013;Cannuscio et al., 2013;Ma et al., 2017;Ver Ploeg et al., 2017) or superstores (Taylor and Villas-Boas, 2016;Ver Ploeg et al., 2017) remain the top choice for food shopping, regardless of household income level, with the latter gaining market share (Stern et al., 2015). Studies reveal a variety of food shopping patterns with moderate variations across different income groups. A small study conducted in Philadelphia found that LI African American women spent a larger percentage of their food budget at limited assortment stores (e.g., Sav-A-Lot, Aldi's) (Chrisinger et al., 2018). Using 2005 Nielsen Homescan data, Broda et al. (2009) found that LI and middle-income households are more likely to shop at supercenters than high-income households, and high-income households are more likely to shop at club stores than LI and middle-income households. A more recent report from Ver Ploeg et al. (2017), however, found that supercenters are increasingly popular among all income groups with 44% of households using them for primary shopping compared to 45% using supermarkets. SNAP and food insecure households report similar shopping patterns as other households (Ver Ploeg et al., 2015). Rahkovsky and Snyder (2015) also found similar shopping patterns for low-income/low-access (LILA) and non-LILA households. This finding is not surprising given that nearly 40% of LI people in the USA live in neighborhoods that are not highpoverty neighborhoods (Wilde et al., 2014). Using Homescan and CES datasets, Damon et al. (2013) did find that SNAP households varied their food shopping locations once SNAP benefits were depleted; then relied on convenience and drug stores. Few studies report rural residents' shopping patterns. Using the national dataset FoodAPS, which tracks weekly shopping, Todd and Scharadin (2016) found insignificant differences in shopping locations and frequency between urban and rural households. A recent case study of five rural grocery stores found that residents spend nearly half of their food dollars at their locally owned store (Peterson and Proctor, 2018). Rural areas experience a scarcity of all food store types, with stores that carry the least healthful options the most prolific. Chain supermarkets are far more likely to be located in urban than rural areas, affecting affordability and availability (Liese et al., 2007;Powell et al., 2007;Bustillos et al., 2009;Dean and Sharkey, 2011;Campbell et al., 2017). Many factors, including income, participation in federal assistance programs, education, children in the household, rural/ urban status and race/ethnicity, are related to what foods people buy. Since purchasing is a reasonable metric of what people consume (Appelhans et al., 2017), determining food purchases provides a proxy for food consumption. In our intercept survey, we used SNAP as a proxy for income level. Andreyeva's et al. (2015) review of 25 studies on the dietary quality of SNAP participants found that they had a lower quality of diet than both income eligible and higher income participants, although caloric and nutrient intake were comparable. Similar to findings from FoodAPS, a national dataset on weekly shopping, Mancino et al. (2018) found that the nutritional quality of supermarket purchases was lower for SNAP recipients than other shoppers. Looking at the relationship of household income and food purchasing, Rahkovsky and Snyder (2015) found that over 1 year, households located in LILA areas purchased more foods overall, and specifically purchased more red meats, poultry, fish and sodas, and less fruits, vegetables and low-fat milk than non-LILA households. Two reports published by the National Bureau of Economic Research (NBER)- Handbury et al. (2015) and Allcott et al. (2017)-provide important insights into food purchasing in LI areas. The first is that the entry of new supermarkets into an area does not change consumer choices. Secondly, combining several secondary datasets to create composite variables, including the IRI dataset, Handbury et al. (2015) concluded that levels of education account for more of the variation in the quality of household food purchases than income. More educated shoppers purchased healthier foods more often than those less educated Anne Palmer et al. shopping at the same store (Handbury et al., 2015), a finding that has been reported by others (Rahkovsky and Snyder, 2015;Mancino et al., 2018;. Using a structural demand model to understand the relationship between income and demand for healthy foods, Allcott et al. (2017) found that education accounts for approximately 21%, nutritional knowledge accounts for 7%, and differences in access to healthy foods account for about 5% of dietary differences. A recent study in two LI neighborhoods in Pittsburgh (Vaughan et al., 2017) corroborated some of these findings, reporting that educational achievement and being a SNAP recipient predicted food choices much better than where people shop. Research on the effect of children in the household and food purchasing is mixed. Using secondary data, Rahkovsky and Snyder (2015) looked at LI households with children under the age of 7 and found that they purchased 23% more fruit, 14% more low-fat red meats and 30% more\""
      ],
      "execution_count": 10,
      "outputs": []
    },
    {
      "cell_type": "markdown",
      "metadata": {
        "id": "aXnmqJMsaDpN"
      },
      "source": [
        "# Re"
      ]
    },
    {
      "cell_type": "code",
      "metadata": {
        "id": "r3U5O4VYX0GB"
      },
      "source": [
        "new_existing_labels = []\n",
        "g2 = ['survey',\"study\",\"database\",\"data\",\"dataset\",\"initiative\",'research']\n",
        "g = ['survey',\"study\",\"database\",\"dataset\"]\n",
        "bad_w = ['consortium','organization','bureau','development','center','table','department','university','bank','class','user'\n",
        "         'appendix','supplementary','supplement','major','association','journal','commission','associates','board','agency',\n",
        "        'administration','federation','ministry','form','score','management','accounts','account','feasibility']\n",
        "bad1 = ['USGS','GWAS','ECLS','aDAS','NCDC','NDBC','UDS','GTD','ISC','DGP','EDC','FDA','TSE','DEA','CDA','IDB','NGDC','JODC','EDM','FADN','LRD','DBDM','DMC','WSC']\n",
        "\n",
        "sub = ''\n",
        "sample_text = text_cleaning(text)\n",
        "sample_text1 = sample_text.replace(\",\",\"\").lower()\n",
        "\n",
        "b = []\n",
        "c = []    \n",
        "for i,cl in enumerate(re.finditer(r'[a-z]*[A-Z]{2,5}[a-z]*[A-Z]{1,5}', sample_text)):\n",
        "    if cl[0].upper() in bad1:\n",
        "        continue\n",
        "    x1 = \"[a-z ]+\".join(list(cl[0].upper()))+'[a-z]+(?: [Dd]ata| [Ss]urvey| [Ss]ample| [Ss]tudy)*'\n",
        "\n",
        "    s = False\n",
        "    ans = re.search(x1, sample_text[cl.start()-100:cl.start()])\n",
        "    if ans:\n",
        "        s = clean_text(ans[0])\n",
        "    if s:\n",
        "        it_bad = False\n",
        "        for w2 in s.split():\n",
        "            if w2 in bad_w: \n",
        "                it_bad = True\n",
        "        if not it_bad:\n",
        "            if s.split()[-1] in g2:\n",
        "                b.append(clean_text(s)) #.rstrip(\"s\")\n",
        "                c.append(clean_text(cl[0]))\n",
        "\n",
        "\n",
        "\n",
        "for s in c:\n",
        "    if len(sub) and not s in sub:\n",
        "        sub = sub + '|'+ s\n",
        "    elif not len(sub):\n",
        "        sub = s\n",
        "\n",
        "for s in b:\n",
        "    if len(sub) and not s in sub:\n",
        "        it_bad = False\n",
        "        for p in sub.split(\"|\"):\n",
        "            if p in s:\n",
        "                it_bad = True\n",
        "                break\n",
        "\n",
        "        if not it_bad:\n",
        "            sub = sub + '|'+ s\n",
        "            new_existing_labels.append(s)\n",
        "    elif not len(sub):\n",
        "        sub = s\n",
        "        new_existing_labels.append(s)\n",
        "\n",
        "\n",
        "a = re.findall(r'(?<=[^\\.] )[A-Z][a-z]{3,20} (?:(?:[A-Z][a-z]{2,20}|of|up|to|and|the|in|on|COVID-19|s|for)[- \\.,]){0,10}(?:[A-Z][a-z]{3,20})(?: data| survey| sample| study)*', sample_text)\n",
        "a = [s for s in a if len(re.findall(r'[A-Z]',s))>2]\n",
        "cnt = Counter(a).most_common()\n",
        "\n",
        "cnt = {k[0]:k[1] for k in cnt if k[1] > 0}\n",
        "\n",
        "for s in cnt.keys():\n",
        "    s = clean_text(s)\n",
        "    if \"\".join([w[0] for w in s.split()]).upper() in bad1:\n",
        "        continue\n",
        "        \n",
        "    for w in s.split():\n",
        "        if w in g:\n",
        "            it_bad = False\n",
        "            for w2 in s.split():\n",
        "                if w2 in bad_w: \n",
        "                    it_bad = True\n",
        "            if not it_bad:\n",
        "                if not len(sub):\n",
        "                    sub = s\n",
        "                    new_existing_labels.append(s)\n",
        "                elif len(sub) and not s in sub:\n",
        "                    for p in sub.split(\"|\"):\n",
        "                        if p in s:\n",
        "                            it_bad = True\n",
        "                            break\n",
        "                    if not it_bad:\n",
        "                        sub = sub + '|'+ s\n",
        "                        new_existing_labels.append(s)\n",
        "\n",
        "                break\n",
        "cnt = Counter(new_existing_labels).most_common()\n",
        "cnt = {k[0]:k[1] for k in cnt if k[1] > 1}\n",
        "new_existing_labels = list(cnt.keys())\n",
        "\n",
        "new_existing_labels = sorted(new_existing_labels, key=len)[::-1]\n",
        " \n",
        "for s in new_existing_labels:#\n",
        "    if ' ' in s and s in sample_text.lower():\n",
        "        if len(sub) and not s in sub:\n",
        "            it_bad = False\n",
        "            for p in sub.split(\"|\"):\n",
        "                if p in s:\n",
        "                    it_bad = True\n",
        "            if not it_bad:\n",
        "                sub = sub + '|'+ s\n",
        "        elif not len(sub):\n",
        "            sub = s"
      ],
      "execution_count": 11,
      "outputs": []
    },
    {
      "cell_type": "markdown",
      "metadata": {
        "id": "mGdu2gUpZ0-7"
      },
      "source": [
        "# Answer"
      ]
    },
    {
      "cell_type": "code",
      "metadata": {
        "colab": {
          "base_uri": "https://localhost:8080/",
          "height": 35
        },
        "id": "hjc4eztjZzSl",
        "outputId": "4efdc09b-05ef-4b60-8606-11d8b9b0f80e"
      },
      "source": [
        "sub"
      ],
      "execution_count": 12,
      "outputs": [
        {
          "output_type": "execute_result",
          "data": {
            "application/vnd.google.colaboratory.intrinsic+json": {
              "type": "string"
            },
            "text/plain": [
              "'ces|consumer expenditure survey|nielsen homescan survey'"
            ]
          },
          "metadata": {
            "tags": []
          },
          "execution_count": 12
        }
      ]
    }
  ]
}